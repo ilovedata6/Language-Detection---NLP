{
 "cells": [
  {
   "cell_type": "code",
   "execution_count": 1,
   "metadata": {
    "_cell_guid": "b1076dfc-b9ad-4769-8c92-a6c4dae69d19",
    "_uuid": "8f2839f25d086af736a60e9eeb907d3b93b6e0e5",
    "execution": {
     "iopub.execute_input": "2024-07-17T10:40:08.528873Z",
     "iopub.status.busy": "2024-07-17T10:40:08.528464Z",
     "iopub.status.idle": "2024-07-17T10:40:09.019007Z",
     "shell.execute_reply": "2024-07-17T10:40:09.017374Z",
     "shell.execute_reply.started": "2024-07-17T10:40:08.528833Z"
    }
   },
   "outputs": [
    {
     "name": "stdout",
     "output_type": "stream",
     "text": [
      "/kaggle/input/language-detection-data/itlaian.txt\n",
      "/kaggle/input/language-detection-data/spanish.txt\n",
      "/kaggle/input/language-detection-data/french.txt\n",
      "/kaggle/input/language-detection-data/english.txt\n",
      "/kaggle/input/language-detection-data/german.txt\n"
     ]
    }
   ],
   "source": [
    "# This Python 3 environment comes with many helpful analytics libraries installed\n",
    "# It is defined by the kaggle/python Docker image: https://github.com/kaggle/docker-python\n",
    "# For example, here's several helpful packages to load\n",
    "\n",
    "import numpy as np # linear algebra\n",
    "import pandas as pd # data processing, CSV file I/O (e.g. pd.read_csv)\n",
    "\n",
    "# Input data files are available in the read-only \"../input/\" directory\n",
    "# For example, running this (by clicking run or pressing Shift+Enter) will list all files under the input directory\n",
    "\n",
    "import os\n",
    "for dirname, _, filenames in os.walk('/kaggle/input'):\n",
    "    for filename in filenames:\n",
    "        print(os.path.join(dirname, filename))\n",
    "\n",
    "# You can write up to 20GB to the current directory (/kaggle/working/) that gets preserved as output when you create a version using \"Save & Run All\" \n",
    "# You can also write temporary files to /kaggle/temp/, but they won't be saved outside of the current session"
   ]
  },
  {
   "cell_type": "code",
   "execution_count": 2,
   "metadata": {
    "execution": {
     "iopub.execute_input": "2024-07-17T10:40:09.027099Z",
     "iopub.status.busy": "2024-07-17T10:40:09.026736Z",
     "iopub.status.idle": "2024-07-17T10:40:09.036205Z",
     "shell.execute_reply": "2024-07-17T10:40:09.034532Z",
     "shell.execute_reply.started": "2024-07-17T10:40:09.027066Z"
    }
   },
   "outputs": [],
   "source": [
    "def load_text_file(file_path, column_name):\n",
    "    \"\"\"\n",
    "    Load a text file with each line as a new row and a single column.\n",
    "\n",
    "    Parameters:\n",
    "    file_path (str): The path to the text file.\n",
    "    column_name (str): The name of the column for the DataFrame.\n",
    "\n",
    "    Returns:\n",
    "    pd.DataFrame: A DataFrame with one column containing the text from the file.\n",
    "    \"\"\"\n",
    "    with open(file_path, encoding=\"utf-8\") as file:\n",
    "        lines = file.readlines()\n",
    "        \n",
    "    lines = [line.strip() for line in lines]\n",
    "    \n",
    "    df = pd.DataFrame(lines, columns=[column_name])\n",
    "    \n",
    "    return df"
   ]
  },
  {
   "cell_type": "code",
   "execution_count": 3,
   "metadata": {
    "execution": {
     "iopub.execute_input": "2024-07-17T10:40:09.038369Z",
     "iopub.status.busy": "2024-07-17T10:40:09.037919Z",
     "iopub.status.idle": "2024-07-17T10:40:09.071270Z",
     "shell.execute_reply": "2024-07-17T10:40:09.069338Z",
     "shell.execute_reply.started": "2024-07-17T10:40:09.038329Z"
    }
   },
   "outputs": [],
   "source": [
    "# Load Datasets\n",
    "\n",
    "eng_df = load_text_file(\"/kaggle/input/language-detection-data/english.txt\", \"English\")\n",
    "spa_df = load_text_file(\"/kaggle/input/language-detection-data/spanish.txt\", \"Spanish\")\n",
    "ger_df = load_text_file(\"/kaggle/input/language-detection-data/german.txt\", \"German\")\n",
    "ita_df = load_text_file(\"/kaggle/input/language-detection-data/itlaian.txt\", \"Italian\")\n",
    "fre_df = load_text_file(\"/kaggle/input/language-detection-data/french.txt\", \"French\")"
   ]
  },
  {
   "cell_type": "code",
   "execution_count": 4,
   "metadata": {
    "execution": {
     "iopub.execute_input": "2024-07-17T10:40:09.075931Z",
     "iopub.status.busy": "2024-07-17T10:40:09.075506Z",
     "iopub.status.idle": "2024-07-17T10:40:09.085735Z",
     "shell.execute_reply": "2024-07-17T10:40:09.083685Z",
     "shell.execute_reply.started": "2024-07-17T10:40:09.075899Z"
    }
   },
   "outputs": [
    {
     "name": "stdout",
     "output_type": "stream",
     "text": [
      "shape of Dataset : (1000, 1)\n",
      "shape of Dataset : (1000, 1)\n",
      "shape of Dataset : (1000, 1)\n",
      "shape of Dataset : (1000, 1)\n",
      "shape of Dataset : (1000, 1)\n"
     ]
    }
   ],
   "source": [
    "print(f\"shape of Dataset : {eng_df.shape}\")\n",
    "print(f\"shape of Dataset : {spa_df.shape}\")\n",
    "print(f\"shape of Dataset : {fre_df.shape}\")\n",
    "print(f\"shape of Dataset : {ger_df.shape}\")\n",
    "print(f\"shape of Dataset : {ita_df.shape}\")"
   ]
  },
  {
   "cell_type": "code",
   "execution_count": 5,
   "metadata": {
    "execution": {
     "iopub.execute_input": "2024-07-17T10:40:09.089278Z",
     "iopub.status.busy": "2024-07-17T10:40:09.088546Z",
     "iopub.status.idle": "2024-07-17T10:40:09.100853Z",
     "shell.execute_reply": "2024-07-17T10:40:09.099447Z",
     "shell.execute_reply.started": "2024-07-17T10:40:09.089210Z"
    }
   },
   "outputs": [],
   "source": [
    "# Data Pre-Processing\n",
    "import string\n",
    "import re\n",
    "\n",
    "punctuation_table = dict((ord(char),None) for char in string.punctuation)\n",
    "\n",
    "def preprocess_data(df, column_name, punctuation_table):\n",
    "    \"\"\"\n",
    "    Preprocesses text data in a DataFrame by lowercasing, removing digits,\n",
    "    and translating punctuation, then appends to data and language label lists.\n",
    "\n",
    "    Parameters:\n",
    "    df (pd.DataFrame): The DataFrame containing text data.\n",
    "    column_name (str): The name of the column containing text data.\n",
    "    punctuation_table (dict): Dictionary mapping punctuation characters to None.\n",
    "\n",
    "    Returns:\n",
    "    list, list: Two lists containing preprocessed text data and corresponding language labels.\n",
    "    \"\"\"\n",
    "    data_list = []\n",
    "    lang_list = []\n",
    "\n",
    "    for i, row in df.iterrows():\n",
    "        line = row[column_name]\n",
    "        if line != 0:\n",
    "            line = line.lower()\n",
    "            line = re.sub(r\"\\d+\", \"\", line)\n",
    "            line = line.translate(punctuation_table)\n",
    "            data_list.append(line)\n",
    "            lang_list.append(column_name)\n",
    "\n",
    "    return data_list, lang_list"
   ]
  },
  {
   "cell_type": "code",
   "execution_count": 6,
   "metadata": {
    "execution": {
     "iopub.execute_input": "2024-07-17T10:40:09.102874Z",
     "iopub.status.busy": "2024-07-17T10:40:09.102490Z",
     "iopub.status.idle": "2024-07-17T10:40:09.529775Z",
     "shell.execute_reply": "2024-07-17T10:40:09.528354Z",
     "shell.execute_reply.started": "2024-07-17T10:40:09.102842Z"
    }
   },
   "outputs": [],
   "source": [
    "eng_data , eng_lang = preprocess_data(eng_df, \"English\", punctuation_table)\n",
    "fre_data , fre_lang = preprocess_data(fre_df, \"French\", punctuation_table)\n",
    "spa_data , spa_lang = preprocess_data(spa_df, \"Spanish\", punctuation_table)\n",
    "ger_data , ger_lang = preprocess_data(ger_df, \"German\", punctuation_table)\n",
    "ita_data , ita_lang = preprocess_data(ita_df, \"Italian\", punctuation_table)"
   ]
  },
  {
   "cell_type": "code",
   "execution_count": 7,
   "metadata": {
    "execution": {
     "iopub.execute_input": "2024-07-17T10:40:09.531807Z",
     "iopub.status.busy": "2024-07-17T10:40:09.531399Z",
     "iopub.status.idle": "2024-07-17T10:40:09.541671Z",
     "shell.execute_reply": "2024-07-17T10:40:09.539977Z",
     "shell.execute_reply.started": "2024-07-17T10:40:09.531772Z"
    }
   },
   "outputs": [],
   "source": [
    "df = pd.DataFrame({\"text\":eng_data+ger_data+fre_data+spa_data+ita_data,\n",
    "                   \"language\":eng_lang+ger_lang+fre_lang+spa_lang+ita_lang})"
   ]
  },
  {
   "cell_type": "code",
   "execution_count": 8,
   "metadata": {
    "execution": {
     "iopub.execute_input": "2024-07-17T10:40:09.543767Z",
     "iopub.status.busy": "2024-07-17T10:40:09.543238Z",
     "iopub.status.idle": "2024-07-17T10:40:09.560794Z",
     "shell.execute_reply": "2024-07-17T10:40:09.559205Z",
     "shell.execute_reply.started": "2024-07-17T10:40:09.543733Z"
    }
   },
   "outputs": [
    {
     "data": {
      "text/plain": [
       "(5000, 2)"
      ]
     },
     "execution_count": 8,
     "metadata": {},
     "output_type": "execute_result"
    }
   ],
   "source": [
    "df.shape"
   ]
  },
  {
   "cell_type": "code",
   "execution_count": 17,
   "metadata": {
    "execution": {
     "iopub.execute_input": "2024-07-17T10:40:56.522310Z",
     "iopub.status.busy": "2024-07-17T10:40:56.521806Z",
     "iopub.status.idle": "2024-07-17T10:40:56.531445Z",
     "shell.execute_reply": "2024-07-17T10:40:56.529847Z",
     "shell.execute_reply.started": "2024-07-17T10:40:56.522274Z"
    }
   },
   "outputs": [],
   "source": [
    "from sklearn.model_selection import train_test_split\n",
    "from sklearn import metrics\n",
    "from sklearn import feature_extraction\n",
    "from sklearn import linear_model\n",
    "from sklearn import pipeline"
   ]
  },
  {
   "cell_type": "code",
   "execution_count": 10,
   "metadata": {
    "execution": {
     "iopub.execute_input": "2024-07-17T10:40:10.172218Z",
     "iopub.status.busy": "2024-07-17T10:40:10.171830Z",
     "iopub.status.idle": "2024-07-17T10:40:10.187686Z",
     "shell.execute_reply": "2024-07-17T10:40:10.186261Z",
     "shell.execute_reply.started": "2024-07-17T10:40:10.172184Z"
    }
   },
   "outputs": [
    {
     "name": "stdout",
     "output_type": "stream",
     "text": [
      "X_train : (4000,)\n",
      "X_test : (1000,)\n",
      "y_train : (4000,)\n",
      "y_test : (1000,)\n"
     ]
    }
   ],
   "source": [
    "X,y = df.iloc[:,0],df.iloc[:,1]\n",
    "X_train,X_test,y_train,y_test = train_test_split(X,y,random_state=42,test_size=0.2)\n",
    "\n",
    "print(f\"X_train : {X_train.shape}\")\n",
    "print(f\"X_test : {X_test.shape}\")\n",
    "print(f\"y_train : {y_train.shape}\")\n",
    "print(f\"y_test : {y_test.shape}\")"
   ]
  },
  {
   "cell_type": "code",
   "execution_count": 11,
   "metadata": {
    "execution": {
     "iopub.execute_input": "2024-07-17T10:40:10.189816Z",
     "iopub.status.busy": "2024-07-17T10:40:10.189240Z",
     "iopub.status.idle": "2024-07-17T10:40:10.197998Z",
     "shell.execute_reply": "2024-07-17T10:40:10.196264Z",
     "shell.execute_reply.started": "2024-07-17T10:40:10.189778Z"
    }
   },
   "outputs": [],
   "source": [
    "# Vectorizer and Model Fitting Pipeline\n",
    "\n",
    "vectorizer = feature_extraction.text.TfidfVectorizer(ngram_range=(1,3),analyzer='char')\n",
    "\n",
    "pipe = pipeline.Pipeline(\n",
    "                        [('vectorizer',vectorizer),\n",
    "                        ('classifier',linear_model.LogisticRegression())\n",
    "])"
   ]
  },
  {
   "cell_type": "code",
   "execution_count": 12,
   "metadata": {
    "execution": {
     "iopub.execute_input": "2024-07-17T10:40:10.202020Z",
     "iopub.status.busy": "2024-07-17T10:40:10.200983Z",
     "iopub.status.idle": "2024-07-17T10:40:16.668911Z",
     "shell.execute_reply": "2024-07-17T10:40:16.666472Z",
     "shell.execute_reply.started": "2024-07-17T10:40:10.201960Z"
    }
   },
   "outputs": [
    {
     "data": {
      "text/html": [
       "<style>#sk-container-id-1 {color: black;background-color: white;}#sk-container-id-1 pre{padding: 0;}#sk-container-id-1 div.sk-toggleable {background-color: white;}#sk-container-id-1 label.sk-toggleable__label {cursor: pointer;display: block;width: 100%;margin-bottom: 0;padding: 0.3em;box-sizing: border-box;text-align: center;}#sk-container-id-1 label.sk-toggleable__label-arrow:before {content: \"▸\";float: left;margin-right: 0.25em;color: #696969;}#sk-container-id-1 label.sk-toggleable__label-arrow:hover:before {color: black;}#sk-container-id-1 div.sk-estimator:hover label.sk-toggleable__label-arrow:before {color: black;}#sk-container-id-1 div.sk-toggleable__content {max-height: 0;max-width: 0;overflow: hidden;text-align: left;background-color: #f0f8ff;}#sk-container-id-1 div.sk-toggleable__content pre {margin: 0.2em;color: black;border-radius: 0.25em;background-color: #f0f8ff;}#sk-container-id-1 input.sk-toggleable__control:checked~div.sk-toggleable__content {max-height: 200px;max-width: 100%;overflow: auto;}#sk-container-id-1 input.sk-toggleable__control:checked~label.sk-toggleable__label-arrow:before {content: \"▾\";}#sk-container-id-1 div.sk-estimator input.sk-toggleable__control:checked~label.sk-toggleable__label {background-color: #d4ebff;}#sk-container-id-1 div.sk-label input.sk-toggleable__control:checked~label.sk-toggleable__label {background-color: #d4ebff;}#sk-container-id-1 input.sk-hidden--visually {border: 0;clip: rect(1px 1px 1px 1px);clip: rect(1px, 1px, 1px, 1px);height: 1px;margin: -1px;overflow: hidden;padding: 0;position: absolute;width: 1px;}#sk-container-id-1 div.sk-estimator {font-family: monospace;background-color: #f0f8ff;border: 1px dotted black;border-radius: 0.25em;box-sizing: border-box;margin-bottom: 0.5em;}#sk-container-id-1 div.sk-estimator:hover {background-color: #d4ebff;}#sk-container-id-1 div.sk-parallel-item::after {content: \"\";width: 100%;border-bottom: 1px solid gray;flex-grow: 1;}#sk-container-id-1 div.sk-label:hover label.sk-toggleable__label {background-color: #d4ebff;}#sk-container-id-1 div.sk-serial::before {content: \"\";position: absolute;border-left: 1px solid gray;box-sizing: border-box;top: 0;bottom: 0;left: 50%;z-index: 0;}#sk-container-id-1 div.sk-serial {display: flex;flex-direction: column;align-items: center;background-color: white;padding-right: 0.2em;padding-left: 0.2em;position: relative;}#sk-container-id-1 div.sk-item {position: relative;z-index: 1;}#sk-container-id-1 div.sk-parallel {display: flex;align-items: stretch;justify-content: center;background-color: white;position: relative;}#sk-container-id-1 div.sk-item::before, #sk-container-id-1 div.sk-parallel-item::before {content: \"\";position: absolute;border-left: 1px solid gray;box-sizing: border-box;top: 0;bottom: 0;left: 50%;z-index: -1;}#sk-container-id-1 div.sk-parallel-item {display: flex;flex-direction: column;z-index: 1;position: relative;background-color: white;}#sk-container-id-1 div.sk-parallel-item:first-child::after {align-self: flex-end;width: 50%;}#sk-container-id-1 div.sk-parallel-item:last-child::after {align-self: flex-start;width: 50%;}#sk-container-id-1 div.sk-parallel-item:only-child::after {width: 0;}#sk-container-id-1 div.sk-dashed-wrapped {border: 1px dashed gray;margin: 0 0.4em 0.5em 0.4em;box-sizing: border-box;padding-bottom: 0.4em;background-color: white;}#sk-container-id-1 div.sk-label label {font-family: monospace;font-weight: bold;display: inline-block;line-height: 1.2em;}#sk-container-id-1 div.sk-label-container {text-align: center;}#sk-container-id-1 div.sk-container {/* jupyter's `normalize.less` sets `[hidden] { display: none; }` but bootstrap.min.css set `[hidden] { display: none !important; }` so we also need the `!important` here to be able to override the default hidden behavior on the sphinx rendered scikit-learn.org. See: https://github.com/scikit-learn/scikit-learn/issues/21755 */display: inline-block !important;position: relative;}#sk-container-id-1 div.sk-text-repr-fallback {display: none;}</style><div id=\"sk-container-id-1\" class=\"sk-top-container\"><div class=\"sk-text-repr-fallback\"><pre>Pipeline(steps=[(&#x27;vectorizer&#x27;,\n",
       "                 TfidfVectorizer(analyzer=&#x27;char&#x27;, ngram_range=(1, 3))),\n",
       "                (&#x27;classifier&#x27;, LogisticRegression())])</pre><b>In a Jupyter environment, please rerun this cell to show the HTML representation or trust the notebook. <br />On GitHub, the HTML representation is unable to render, please try loading this page with nbviewer.org.</b></div><div class=\"sk-container\" hidden><div class=\"sk-item sk-dashed-wrapped\"><div class=\"sk-label-container\"><div class=\"sk-label sk-toggleable\"><input class=\"sk-toggleable__control sk-hidden--visually\" id=\"sk-estimator-id-1\" type=\"checkbox\" ><label for=\"sk-estimator-id-1\" class=\"sk-toggleable__label sk-toggleable__label-arrow\">Pipeline</label><div class=\"sk-toggleable__content\"><pre>Pipeline(steps=[(&#x27;vectorizer&#x27;,\n",
       "                 TfidfVectorizer(analyzer=&#x27;char&#x27;, ngram_range=(1, 3))),\n",
       "                (&#x27;classifier&#x27;, LogisticRegression())])</pre></div></div></div><div class=\"sk-serial\"><div class=\"sk-item\"><div class=\"sk-estimator sk-toggleable\"><input class=\"sk-toggleable__control sk-hidden--visually\" id=\"sk-estimator-id-2\" type=\"checkbox\" ><label for=\"sk-estimator-id-2\" class=\"sk-toggleable__label sk-toggleable__label-arrow\">TfidfVectorizer</label><div class=\"sk-toggleable__content\"><pre>TfidfVectorizer(analyzer=&#x27;char&#x27;, ngram_range=(1, 3))</pre></div></div></div><div class=\"sk-item\"><div class=\"sk-estimator sk-toggleable\"><input class=\"sk-toggleable__control sk-hidden--visually\" id=\"sk-estimator-id-3\" type=\"checkbox\" ><label for=\"sk-estimator-id-3\" class=\"sk-toggleable__label sk-toggleable__label-arrow\">LogisticRegression</label><div class=\"sk-toggleable__content\"><pre>LogisticRegression()</pre></div></div></div></div></div></div></div>"
      ],
      "text/plain": [
       "Pipeline(steps=[('vectorizer',\n",
       "                 TfidfVectorizer(analyzer='char', ngram_range=(1, 3))),\n",
       "                ('classifier', LogisticRegression())])"
      ]
     },
     "execution_count": 12,
     "metadata": {},
     "output_type": "execute_result"
    }
   ],
   "source": [
    "pipe.fit(X_train,y_train)"
   ]
  },
  {
   "cell_type": "code",
   "execution_count": 13,
   "metadata": {
    "execution": {
     "iopub.execute_input": "2024-07-17T10:40:16.679328Z",
     "iopub.status.busy": "2024-07-17T10:40:16.677597Z",
     "iopub.status.idle": "2024-07-17T10:40:16.975498Z",
     "shell.execute_reply": "2024-07-17T10:40:16.973977Z",
     "shell.execute_reply.started": "2024-07-17T10:40:16.679219Z"
    }
   },
   "outputs": [],
   "source": [
    "# Model Prediction\n",
    "\n",
    "y_pred = pipe.predict(X_test)"
   ]
  },
  {
   "cell_type": "code",
   "execution_count": 14,
   "metadata": {
    "execution": {
     "iopub.execute_input": "2024-07-17T10:40:16.978443Z",
     "iopub.status.busy": "2024-07-17T10:40:16.977961Z",
     "iopub.status.idle": "2024-07-17T10:40:16.991382Z",
     "shell.execute_reply": "2024-07-17T10:40:16.989902Z",
     "shell.execute_reply.started": "2024-07-17T10:40:16.978407Z"
    }
   },
   "outputs": [
    {
     "name": "stdout",
     "output_type": "stream",
     "text": [
      "99.0 %\n"
     ]
    }
   ],
   "source": [
    "# Model Evaluation \n",
    "\n",
    "acc = (metrics.accuracy_score(y_test,y_pred)) * 100 \n",
    "\n",
    "print(acc,\"%\")"
   ]
  },
  {
   "cell_type": "code",
   "execution_count": 15,
   "metadata": {
    "execution": {
     "iopub.execute_input": "2024-07-17T10:40:16.994211Z",
     "iopub.status.busy": "2024-07-17T10:40:16.993674Z",
     "iopub.status.idle": "2024-07-17T10:40:17.022327Z",
     "shell.execute_reply": "2024-07-17T10:40:17.020371Z",
     "shell.execute_reply.started": "2024-07-17T10:40:16.994167Z"
    }
   },
   "outputs": [
    {
     "name": "stdout",
     "output_type": "stream",
     "text": [
      "Confusion Matrix : \n",
      " [[213   3   0   0   0]\n",
      " [  2 189   1   0   0]\n",
      " [  0   0 190   0   0]\n",
      " [  1   2   0 189   0]\n",
      " [  1   0   0   0 209]]\n"
     ]
    }
   ],
   "source": [
    "matrix = metrics.confusion_matrix(y_test,y_pred)\n",
    "\n",
    "print(\"Confusion Matrix : \\n\" , matrix)"
   ]
  },
  {
   "cell_type": "code",
   "execution_count": 16,
   "metadata": {
    "execution": {
     "iopub.execute_input": "2024-07-17T10:40:17.024983Z",
     "iopub.status.busy": "2024-07-17T10:40:17.024480Z",
     "iopub.status.idle": "2024-07-17T10:40:17.633116Z",
     "shell.execute_reply": "2024-07-17T10:40:17.631445Z",
     "shell.execute_reply.started": "2024-07-17T10:40:17.024945Z"
    }
   },
   "outputs": [
    {
     "data": {
      "image/png": "[encoded data removed]",
      "text/plain": [
       "<Figure size 800x600 with 2 Axes>"
      ]
     },
     "metadata": {},
     "output_type": "display_data"
    }
   ],
   "source": [
    "import matplotlib.pyplot as plt\n",
    "import seaborn as sns\n",
    "\n",
    "# Plotting confusion matrix\n",
    "plt.figure(figsize=(8, 6))\n",
    "sns.heatmap(matrix, annot=True, cmap='Blues', fmt='d', \n",
    "            xticklabels=['English', 'Germany' ,'French' ,'Spanish','Italian'],\n",
    "            yticklabels=['English', 'Germany' ,'French' ,'Spanish','Italian'])\n",
    "plt.title('Confusion Matrix')\n",
    "plt.xlabel('Predicted')\n",
    "plt.ylabel('Actual')\n",
    "plt.show()"
   ]
  },
  {
   "cell_type": "code",
   "execution_count": null,
   "metadata": {},
   "outputs": [],
   "source": []
  }
 ],
 "metadata": {
  "kaggle": {
   "accelerator": "none",
   "dataSources": [
    {
     "datasetId": 5403120,
     "sourceId": 8974198,
     "sourceType": "datasetVersion"
    }
   ],
   "dockerImageVersionId": 30746,
   "isGpuEnabled": false,
   "isInternetEnabled": true,
   "language": "python",
   "sourceType": "notebook"
  },
  "kernelspec": {
   "display_name": "Python 3 (ipykernel)",
   "language": "python",
   "name": "python3"
  },
  "language_info": {
   "codemirror_mode": {
    "name": "ipython",
    "version": 3
   },
   "file_extension": ".py",
   "mimetype": "text/x-python",
   "name": "python",
   "nbconvert_exporter": "python",
   "pygments_lexer": "ipython3",
   "version": "3.11.4"
  }
 },
 "nbformat": 4,
 "nbformat_minor": 4
}
